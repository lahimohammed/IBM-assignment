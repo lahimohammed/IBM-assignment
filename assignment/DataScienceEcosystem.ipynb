{
 "cells": [
  {
   "cell_type": "markdown",
   "id": "74544c82-56aa-45f2-9179-1d1dd995c5cc",
   "metadata": {},
   "source": [
    "# Data Science Tools and Ecosystem"
   ]
  },
  {
   "cell_type": "markdown",
   "id": "bf44671a-ccd1-47b3-9b95-5f8f27e6c8de",
   "metadata": {},
   "source": [
    "# In this notebook, Data Science Tools and Ecosystem are summarized."
   ]
  },
  {
   "cell_type": "markdown",
   "id": "1bf4d4f9-dcf0-4877-991f-2694b3a14b6f",
   "metadata": {},
   "source": [
    "# Some of the popular languages that Data Scientists use are:"
   ]
  },
  {
   "cell_type": "markdown",
   "id": "5e03f643-eb95-4478-a428-c9bb6f44b95b",
   "metadata": {},
   "source": [
    "1. python\n",
    "2. R\n",
    "3. C++\n",
    "4. Julia\n"
   ]
  },
  {
   "cell_type": "markdown",
   "id": "2adc5140-b6d6-4782-be0c-fd629744cba3",
   "metadata": {},
   "source": [
    "# Some of the commonly used libraries used by Data Scientists include:"
   ]
  },
  {
   "cell_type": "markdown",
   "id": "debe92b2-452b-40f5-8cbb-1f00010a49a0",
   "metadata": {},
   "source": [
    "1. NumPy\n",
    "2. Pandas\n",
    "3. TensorFlow\n",
    "4. Matplotlib\n",
    "5. Scikit-learn"
   ]
  },
  {
   "cell_type": "markdown",
   "id": "62704e93-ee4b-440c-844e-2bb03f7069fa",
   "metadata": {},
   "source": [
    "|data science tool|\n",
    "|---------------|\n",
    "|R studio|\n",
    "|Anaconda|\n",
    "|VS code|"
   ]
  },
  {
   "cell_type": "markdown",
   "id": "8bcf3376-a904-4022-8b4d-0e661442cf40",
   "metadata": {},
   "source": [
    "### Below are a few examples of evaluating arithmetic expressions in Python"
   ]
  },
  {
   "cell_type": "code",
   "execution_count": 1,
   "id": "f501e7b4-5514-44e0-b787-41cb0dc43cbe",
   "metadata": {
    "tags": []
   },
   "outputs": [
    {
     "data": {
      "text/plain": [
       "17"
      ]
     },
     "execution_count": 1,
     "metadata": {},
     "output_type": "execute_result"
    }
   ],
   "source": [
    "# This a simple arithmetic expression to mutiply then add integers\n",
    "(3*4)+5"
   ]
  },
  {
   "cell_type": "code",
   "execution_count": 4,
   "id": "2d52dba7-be23-4e59-9275-47bbb489e951",
   "metadata": {
    "tags": []
   },
   "outputs": [
    {
     "data": {
      "text/plain": [
       "3.3333333333333335"
      ]
     },
     "execution_count": 4,
     "metadata": {},
     "output_type": "execute_result"
    }
   ],
   "source": [
    "#  This will convert 200 minutes to hours by diving by 60\n",
    "x=200\n",
    "y=60\n",
    "x/y\n",
    "\n"
   ]
  },
  {
   "cell_type": "markdown",
   "id": "147d2cb0-1d32-447e-a41f-a221d1fdec40",
   "metadata": {},
   "source": [
    "# **Objectives**\n"
   ]
  },
  {
   "cell_type": "markdown",
   "id": "1fd34224-0769-499d-92d5-4b0779981dbc",
   "metadata": {},
   "source": [
    "\n",
    "* python\n",
    "* R\n",
    "* Julia"
   ]
  },
  {
   "cell_type": "markdown",
   "id": "6e41a283-9ef7-4834-8634-b12d352b3d10",
   "metadata": {},
   "source": [
    "## Author\n",
    "Mohammed Abdullahi Junior"
   ]
  },
  {
   "cell_type": "code",
   "execution_count": null,
   "id": "0d7d6a18-401e-4097-ad1b-649a48292635",
   "metadata": {},
   "outputs": [],
   "source": []
  }
 ],
 "metadata": {
  "kernelspec": {
   "display_name": "Python",
   "language": "python",
   "name": "conda-env-python-py"
  },
  "language_info": {
   "codemirror_mode": {
    "name": "ipython",
    "version": 3
   },
   "file_extension": ".py",
   "mimetype": "text/x-python",
   "name": "python",
   "nbconvert_exporter": "python",
   "pygments_lexer": "ipython3",
   "version": "3.7.12"
  }
 },
 "nbformat": 4,
 "nbformat_minor": 5
}
